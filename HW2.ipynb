{
  "nbformat": 4,
  "nbformat_minor": 0,
  "metadata": {
    "colab": {
      "provenance": [],
      "include_colab_link": true
    },
    "kernelspec": {
      "name": "python3",
      "display_name": "Python 3"
    },
    "language_info": {
      "name": "python"
    }
  },
  "cells": [
    {
      "cell_type": "markdown",
      "metadata": {
        "id": "view-in-github",
        "colab_type": "text"
      },
      "source": [
        "<a href=\"https://colab.research.google.com/github/Yulia-Kryukova-1201/scientific-research-seminar/blob/main/HW2.ipynb\" target=\"_parent\"><img src=\"https://colab.research.google.com/assets/colab-badge.svg\" alt=\"Open In Colab\"/></a>"
      ]
    },
    {
      "cell_type": "code",
      "execution_count": 2,
      "metadata": {
        "id": "5H68L9Cx5fB1",
        "colab": {
          "base_uri": "https://localhost:8080/",
          "height": 36
        },
        "outputId": "d463b4d5-4865-4241-c568-a80828f24b65"
      },
      "outputs": [
        {
          "output_type": "execute_result",
          "data": {
            "text/plain": [
              "'\\nНе забудьте импортировать необходимые библиотеки для анализа данных\\n\\n'"
            ],
            "application/vnd.google.colaboratory.intrinsic+json": {
              "type": "string"
            }
          },
          "metadata": {},
          "execution_count": 2
        }
      ],
      "source": [
        "## место для необходимых импортов\n",
        "\n",
        "import numpy as np\n",
        "import pandas as pd\n",
        "import statsmodels.api as sm\n",
        "import statsmodels.formula.api as smf\n",
        "import matplotlib.pyplot as plt\n",
        "import seaborn as sns\n",
        "from scipy.stats import shapiro, probplot\n",
        "import scipy.stats as stats\n",
        "\n",
        "'''\n",
        "Не забудьте импортировать необходимые библиотеки для анализа данных\n",
        "\n",
        "'''"
      ]
    },
    {
      "cell_type": "code",
      "source": [
        "from google.colab import files\n",
        "\n",
        "uploaded = files.upload()\n"
      ],
      "metadata": {
        "colab": {
          "base_uri": "https://localhost:8080/",
          "height": 74
        },
        "id": "83yoVDA9NYbv",
        "outputId": "5d7f10b5-ff8d-4996-c16b-bb49b7ff558c"
      },
      "execution_count": 3,
      "outputs": [
        {
          "output_type": "display_data",
          "data": {
            "text/plain": [
              "<IPython.core.display.HTML object>"
            ],
            "text/html": [
              "\n",
              "     <input type=\"file\" id=\"files-85d96604-569e-4399-8cc9-313174de3777\" name=\"files[]\" multiple disabled\n",
              "        style=\"border:none\" />\n",
              "     <output id=\"result-85d96604-569e-4399-8cc9-313174de3777\">\n",
              "      Upload widget is only available when the cell has been executed in the\n",
              "      current browser session. Please rerun this cell to enable.\n",
              "      </output>\n",
              "      <script>// Copyright 2017 Google LLC\n",
              "//\n",
              "// Licensed under the Apache License, Version 2.0 (the \"License\");\n",
              "// you may not use this file except in compliance with the License.\n",
              "// You may obtain a copy of the License at\n",
              "//\n",
              "//      http://www.apache.org/licenses/LICENSE-2.0\n",
              "//\n",
              "// Unless required by applicable law or agreed to in writing, software\n",
              "// distributed under the License is distributed on an \"AS IS\" BASIS,\n",
              "// WITHOUT WARRANTIES OR CONDITIONS OF ANY KIND, either express or implied.\n",
              "// See the License for the specific language governing permissions and\n",
              "// limitations under the License.\n",
              "\n",
              "/**\n",
              " * @fileoverview Helpers for google.colab Python module.\n",
              " */\n",
              "(function(scope) {\n",
              "function span(text, styleAttributes = {}) {\n",
              "  const element = document.createElement('span');\n",
              "  element.textContent = text;\n",
              "  for (const key of Object.keys(styleAttributes)) {\n",
              "    element.style[key] = styleAttributes[key];\n",
              "  }\n",
              "  return element;\n",
              "}\n",
              "\n",
              "// Max number of bytes which will be uploaded at a time.\n",
              "const MAX_PAYLOAD_SIZE = 100 * 1024;\n",
              "\n",
              "function _uploadFiles(inputId, outputId) {\n",
              "  const steps = uploadFilesStep(inputId, outputId);\n",
              "  const outputElement = document.getElementById(outputId);\n",
              "  // Cache steps on the outputElement to make it available for the next call\n",
              "  // to uploadFilesContinue from Python.\n",
              "  outputElement.steps = steps;\n",
              "\n",
              "  return _uploadFilesContinue(outputId);\n",
              "}\n",
              "\n",
              "// This is roughly an async generator (not supported in the browser yet),\n",
              "// where there are multiple asynchronous steps and the Python side is going\n",
              "// to poll for completion of each step.\n",
              "// This uses a Promise to block the python side on completion of each step,\n",
              "// then passes the result of the previous step as the input to the next step.\n",
              "function _uploadFilesContinue(outputId) {\n",
              "  const outputElement = document.getElementById(outputId);\n",
              "  const steps = outputElement.steps;\n",
              "\n",
              "  const next = steps.next(outputElement.lastPromiseValue);\n",
              "  return Promise.resolve(next.value.promise).then((value) => {\n",
              "    // Cache the last promise value to make it available to the next\n",
              "    // step of the generator.\n",
              "    outputElement.lastPromiseValue = value;\n",
              "    return next.value.response;\n",
              "  });\n",
              "}\n",
              "\n",
              "/**\n",
              " * Generator function which is called between each async step of the upload\n",
              " * process.\n",
              " * @param {string} inputId Element ID of the input file picker element.\n",
              " * @param {string} outputId Element ID of the output display.\n",
              " * @return {!Iterable<!Object>} Iterable of next steps.\n",
              " */\n",
              "function* uploadFilesStep(inputId, outputId) {\n",
              "  const inputElement = document.getElementById(inputId);\n",
              "  inputElement.disabled = false;\n",
              "\n",
              "  const outputElement = document.getElementById(outputId);\n",
              "  outputElement.innerHTML = '';\n",
              "\n",
              "  const pickedPromise = new Promise((resolve) => {\n",
              "    inputElement.addEventListener('change', (e) => {\n",
              "      resolve(e.target.files);\n",
              "    });\n",
              "  });\n",
              "\n",
              "  const cancel = document.createElement('button');\n",
              "  inputElement.parentElement.appendChild(cancel);\n",
              "  cancel.textContent = 'Cancel upload';\n",
              "  const cancelPromise = new Promise((resolve) => {\n",
              "    cancel.onclick = () => {\n",
              "      resolve(null);\n",
              "    };\n",
              "  });\n",
              "\n",
              "  // Wait for the user to pick the files.\n",
              "  const files = yield {\n",
              "    promise: Promise.race([pickedPromise, cancelPromise]),\n",
              "    response: {\n",
              "      action: 'starting',\n",
              "    }\n",
              "  };\n",
              "\n",
              "  cancel.remove();\n",
              "\n",
              "  // Disable the input element since further picks are not allowed.\n",
              "  inputElement.disabled = true;\n",
              "\n",
              "  if (!files) {\n",
              "    return {\n",
              "      response: {\n",
              "        action: 'complete',\n",
              "      }\n",
              "    };\n",
              "  }\n",
              "\n",
              "  for (const file of files) {\n",
              "    const li = document.createElement('li');\n",
              "    li.append(span(file.name, {fontWeight: 'bold'}));\n",
              "    li.append(span(\n",
              "        `(${file.type || 'n/a'}) - ${file.size} bytes, ` +\n",
              "        `last modified: ${\n",
              "            file.lastModifiedDate ? file.lastModifiedDate.toLocaleDateString() :\n",
              "                                    'n/a'} - `));\n",
              "    const percent = span('0% done');\n",
              "    li.appendChild(percent);\n",
              "\n",
              "    outputElement.appendChild(li);\n",
              "\n",
              "    const fileDataPromise = new Promise((resolve) => {\n",
              "      const reader = new FileReader();\n",
              "      reader.onload = (e) => {\n",
              "        resolve(e.target.result);\n",
              "      };\n",
              "      reader.readAsArrayBuffer(file);\n",
              "    });\n",
              "    // Wait for the data to be ready.\n",
              "    let fileData = yield {\n",
              "      promise: fileDataPromise,\n",
              "      response: {\n",
              "        action: 'continue',\n",
              "      }\n",
              "    };\n",
              "\n",
              "    // Use a chunked sending to avoid message size limits. See b/62115660.\n",
              "    let position = 0;\n",
              "    do {\n",
              "      const length = Math.min(fileData.byteLength - position, MAX_PAYLOAD_SIZE);\n",
              "      const chunk = new Uint8Array(fileData, position, length);\n",
              "      position += length;\n",
              "\n",
              "      const base64 = btoa(String.fromCharCode.apply(null, chunk));\n",
              "      yield {\n",
              "        response: {\n",
              "          action: 'append',\n",
              "          file: file.name,\n",
              "          data: base64,\n",
              "        },\n",
              "      };\n",
              "\n",
              "      let percentDone = fileData.byteLength === 0 ?\n",
              "          100 :\n",
              "          Math.round((position / fileData.byteLength) * 100);\n",
              "      percent.textContent = `${percentDone}% done`;\n",
              "\n",
              "    } while (position < fileData.byteLength);\n",
              "  }\n",
              "\n",
              "  // All done.\n",
              "  yield {\n",
              "    response: {\n",
              "      action: 'complete',\n",
              "    }\n",
              "  };\n",
              "}\n",
              "\n",
              "scope.google = scope.google || {};\n",
              "scope.google.colab = scope.google.colab || {};\n",
              "scope.google.colab._files = {\n",
              "  _uploadFiles,\n",
              "  _uploadFilesContinue,\n",
              "};\n",
              "})(self);\n",
              "</script> "
            ]
          },
          "metadata": {}
        },
        {
          "output_type": "stream",
          "name": "stdout",
          "text": [
            "Saving reg_data.csv to reg_data.csv\n"
          ]
        }
      ]
    },
    {
      "cell_type": "code",
      "source": [
        "df = pd.read_csv('reg_data.csv')"
      ],
      "metadata": {
        "id": "ok4zrRaYQpFo"
      },
      "execution_count": 4,
      "outputs": []
    },
    {
      "cell_type": "code",
      "source": [
        "df=df.dropna()"
      ],
      "metadata": {
        "id": "gKbd7iGfQ6YZ"
      },
      "execution_count": 6,
      "outputs": []
    },
    {
      "cell_type": "markdown",
      "source": [
        "### Домашнее задание по теме \"Множественная линейная регрессия\"\n",
        "\n",
        "Вам представлены данные о стоимости квартир в городе У. Необходимо провести исследовательский анализ, **что влияет на стоимость квартиры**.\n",
        "\n",
        "Наша зависимая переменная у - **цена квартиры** (*price*)"
      ],
      "metadata": {
        "id": "qoAd4eQb6c7l"
      }
    },
    {
      "cell_type": "markdown",
      "source": [
        "#### Описание переменных набора данных\n",
        "\n",
        "| Переменная           | Описание                                                                                                                                                                                                 |\n",
        "|----------------------|---------------------------------------------------------------------------------------------------------------------------------------------------------------------------------------------------------|\n",
        "| **livesp**            | Жилая площадь (в м^2).                                                                                                                                                                            |\n",
        "| **metrdist**           | Расстояние до ближайшей станции метро.                                                                                                                                                                                    |\n",
        "| **totsp**      | Общая площадь квартиры (в m^2).                                                                                                                                                                              |\n",
        "| **walk**            | бинарная переменная (0 - инфраструктура далеко, 1 - инфраструктура в пешей доступности).                                                                                                                                                                        |\n",
        "| **floor**       | бинарная переменная (0 - не первый этаж, 1 - первый этаж).                                                                                                                                                                     |\n"
      ],
      "metadata": {
        "id": "GfZZLPEo87A7"
      }
    },
    {
      "cell_type": "markdown",
      "source": [
        "**ЗАДАНИЕ 1:** Проанализируйте, значима ли средняя цена в квартирах на первом и не первых этажах (*floor*). Напишите код для t-теста и проинтерпретируйте его"
      ],
      "metadata": {
        "id": "lJ7PZVxR_wad"
      }
    },
    {
      "cell_type": "markdown",
      "source": [
        "H0: Средняя цена на квартиры не зависит от этажа, котором находится квартира\n",
        "\n",
        "Н1: Средняя цена на квартиры зависит от этажа, котором находится квартира\n",
        "\n",
        "Аналитическая интерпретация: В нашем случае p-value < 0.05 (p-value = 0.0000000018), значиn мы отвергаем Н0 и принимаем Н1\n",
        "\n",
        "содержательная интерпретация: Средняя цена квартиры зависит от этажа, на котором находится квартира"
      ],
      "metadata": {
        "id": "v6rmumAbScU9"
      }
    },
    {
      "cell_type": "code",
      "source": [
        "group1 = df[df['floor'] == 1]['price']\n",
        "group2 = df[df['floor'] ==0]['price']\n",
        "\n",
        "t_stat, p_value = stats.ttest_ind(group1, group2)\n",
        "print(\"Результаты t-теста:\")\n",
        "print(f\"t-статистика = {t_stat:.3f}\")\n",
        "print(f\"p-значение = {p_value:.30f}\")"
      ],
      "metadata": {
        "id": "3EJ30zYh_rfw",
        "colab": {
          "base_uri": "https://localhost:8080/"
        },
        "outputId": "c35db7e0-f54e-48ff-9c3e-fe86e7eaed43"
      },
      "execution_count": 8,
      "outputs": [
        {
          "output_type": "stream",
          "name": "stdout",
          "text": [
            "Результаты t-теста:\n",
            "t-статистика = 6.038\n",
            "p-значение = 0.000000001851875101565726453118\n"
          ]
        }
      ]
    },
    {
      "cell_type": "markdown",
      "source": [
        "**ЗАДАНИЕ 2:** Проанализируйте, значима ли средняя цена в квартирах, общей площадью менее 63 и больше 63 (*totsp*) . Напишите код для t-теста и проинтерпретируйте его"
      ],
      "metadata": {
        "id": "BmysolrgAV-z"
      }
    },
    {
      "cell_type": "markdown",
      "source": [
        "H0: Средняя цена на квартиры не зависит от её общей площади\n",
        "\n",
        "Н1: Средняя цена на квартиры зависит от её общей площади\n",
        "\n",
        "Аналитическая интерпретация: В нашем случае p-value < 0.05 (p-value = 0.00000000), значиn мы отвергаем Н0 и принимаем Н1\n",
        "\n",
        "содержательная интерпретация: Средняя цена квартиры зависит от её общей площади"
      ],
      "metadata": {
        "id": "wyoDeZPj4PfY"
      }
    },
    {
      "cell_type": "code",
      "source": [
        "group1 = df[df['totsp'] <63]['price']\n",
        "group2 = df[df['totsp'] >63]['price']\n",
        "\n",
        "t_stat, p_value = stats.ttest_ind(group1, group2)\n",
        "print(\"Результаты t-теста:\")\n",
        "print(f\"t-статистика = {t_stat:.3f}\")\n",
        "print(f\"p-значение = {p_value:.30f}\")"
      ],
      "metadata": {
        "id": "4YEP2I6p_f_S",
        "colab": {
          "base_uri": "https://localhost:8080/"
        },
        "outputId": "b5d69edf-4875-43ce-ed58-bc15c0e97bef"
      },
      "execution_count": 9,
      "outputs": [
        {
          "output_type": "stream",
          "name": "stdout",
          "text": [
            "Результаты t-теста:\n",
            "t-статистика = -21.187\n",
            "p-значение = 0.000000000000000000000000000000\n"
          ]
        }
      ]
    },
    {
      "cell_type": "markdown",
      "source": [
        "**ЗАДАНИЕ 3**: Постройте множественную регрессию, включив все переменные, **(кроме totsp)** в регрессию. В качестве зависимой переменной берем **price**."
      ],
      "metadata": {
        "id": "ZWdZ14CuBRF2"
      }
    },
    {
      "cell_type": "code",
      "source": [
        "df = df.dropna()\n",
        "df.describe()"
      ],
      "metadata": {
        "id": "WaTcM12b_pBQ",
        "colab": {
          "base_uri": "https://localhost:8080/",
          "height": 300
        },
        "outputId": "fb910793-1964-4338-c067-0042bd9f07b9"
      },
      "execution_count": 10,
      "outputs": [
        {
          "output_type": "execute_result",
          "data": {
            "text/plain": [
              "             price       livesp     metrdist        totsp         walk  \\\n",
              "count  2040.000000  2040.000000  2040.000000  2040.000000  2040.000000   \n",
              "mean    127.496569    46.337255     8.117157    73.084314     0.685784   \n",
              "std      51.878220     7.894348     3.815574    15.123450     0.464317   \n",
              "min      50.000000    28.000000     1.000000    44.000000     0.000000   \n",
              "25%      95.000000    42.000000     5.000000    62.000000     0.000000   \n",
              "50%     115.000000    45.000000     7.000000    73.500000     1.000000   \n",
              "75%     142.000000    50.000000    10.000000    79.000000     1.000000   \n",
              "max     730.000000   102.000000    20.000000   192.000000     1.000000   \n",
              "\n",
              "             floor  \n",
              "count  2040.000000  \n",
              "mean      0.790686  \n",
              "std       0.406918  \n",
              "min       0.000000  \n",
              "25%       1.000000  \n",
              "50%       1.000000  \n",
              "75%       1.000000  \n",
              "max       1.000000  "
            ],
            "text/html": [
              "\n",
              "  <div id=\"df-853cb51b-62a6-4ff0-b1fd-d50f4b7b6dda\" class=\"colab-df-container\">\n",
              "    <div>\n",
              "<style scoped>\n",
              "    .dataframe tbody tr th:only-of-type {\n",
              "        vertical-align: middle;\n",
              "    }\n",
              "\n",
              "    .dataframe tbody tr th {\n",
              "        vertical-align: top;\n",
              "    }\n",
              "\n",
              "    .dataframe thead th {\n",
              "        text-align: right;\n",
              "    }\n",
              "</style>\n",
              "<table border=\"1\" class=\"dataframe\">\n",
              "  <thead>\n",
              "    <tr style=\"text-align: right;\">\n",
              "      <th></th>\n",
              "      <th>price</th>\n",
              "      <th>livesp</th>\n",
              "      <th>metrdist</th>\n",
              "      <th>totsp</th>\n",
              "      <th>walk</th>\n",
              "      <th>floor</th>\n",
              "    </tr>\n",
              "  </thead>\n",
              "  <tbody>\n",
              "    <tr>\n",
              "      <th>count</th>\n",
              "      <td>2040.000000</td>\n",
              "      <td>2040.000000</td>\n",
              "      <td>2040.000000</td>\n",
              "      <td>2040.000000</td>\n",
              "      <td>2040.000000</td>\n",
              "      <td>2040.000000</td>\n",
              "    </tr>\n",
              "    <tr>\n",
              "      <th>mean</th>\n",
              "      <td>127.496569</td>\n",
              "      <td>46.337255</td>\n",
              "      <td>8.117157</td>\n",
              "      <td>73.084314</td>\n",
              "      <td>0.685784</td>\n",
              "      <td>0.790686</td>\n",
              "    </tr>\n",
              "    <tr>\n",
              "      <th>std</th>\n",
              "      <td>51.878220</td>\n",
              "      <td>7.894348</td>\n",
              "      <td>3.815574</td>\n",
              "      <td>15.123450</td>\n",
              "      <td>0.464317</td>\n",
              "      <td>0.406918</td>\n",
              "    </tr>\n",
              "    <tr>\n",
              "      <th>min</th>\n",
              "      <td>50.000000</td>\n",
              "      <td>28.000000</td>\n",
              "      <td>1.000000</td>\n",
              "      <td>44.000000</td>\n",
              "      <td>0.000000</td>\n",
              "      <td>0.000000</td>\n",
              "    </tr>\n",
              "    <tr>\n",
              "      <th>25%</th>\n",
              "      <td>95.000000</td>\n",
              "      <td>42.000000</td>\n",
              "      <td>5.000000</td>\n",
              "      <td>62.000000</td>\n",
              "      <td>0.000000</td>\n",
              "      <td>1.000000</td>\n",
              "    </tr>\n",
              "    <tr>\n",
              "      <th>50%</th>\n",
              "      <td>115.000000</td>\n",
              "      <td>45.000000</td>\n",
              "      <td>7.000000</td>\n",
              "      <td>73.500000</td>\n",
              "      <td>1.000000</td>\n",
              "      <td>1.000000</td>\n",
              "    </tr>\n",
              "    <tr>\n",
              "      <th>75%</th>\n",
              "      <td>142.000000</td>\n",
              "      <td>50.000000</td>\n",
              "      <td>10.000000</td>\n",
              "      <td>79.000000</td>\n",
              "      <td>1.000000</td>\n",
              "      <td>1.000000</td>\n",
              "    </tr>\n",
              "    <tr>\n",
              "      <th>max</th>\n",
              "      <td>730.000000</td>\n",
              "      <td>102.000000</td>\n",
              "      <td>20.000000</td>\n",
              "      <td>192.000000</td>\n",
              "      <td>1.000000</td>\n",
              "      <td>1.000000</td>\n",
              "    </tr>\n",
              "  </tbody>\n",
              "</table>\n",
              "</div>\n",
              "    <div class=\"colab-df-buttons\">\n",
              "\n",
              "  <div class=\"colab-df-container\">\n",
              "    <button class=\"colab-df-convert\" onclick=\"convertToInteractive('df-853cb51b-62a6-4ff0-b1fd-d50f4b7b6dda')\"\n",
              "            title=\"Convert this dataframe to an interactive table.\"\n",
              "            style=\"display:none;\">\n",
              "\n",
              "  <svg xmlns=\"http://www.w3.org/2000/svg\" height=\"24px\" viewBox=\"0 -960 960 960\">\n",
              "    <path d=\"M120-120v-720h720v720H120Zm60-500h600v-160H180v160Zm220 220h160v-160H400v160Zm0 220h160v-160H400v160ZM180-400h160v-160H180v160Zm440 0h160v-160H620v160ZM180-180h160v-160H180v160Zm440 0h160v-160H620v160Z\"/>\n",
              "  </svg>\n",
              "    </button>\n",
              "\n",
              "  <style>\n",
              "    .colab-df-container {\n",
              "      display:flex;\n",
              "      gap: 12px;\n",
              "    }\n",
              "\n",
              "    .colab-df-convert {\n",
              "      background-color: #E8F0FE;\n",
              "      border: none;\n",
              "      border-radius: 50%;\n",
              "      cursor: pointer;\n",
              "      display: none;\n",
              "      fill: #1967D2;\n",
              "      height: 32px;\n",
              "      padding: 0 0 0 0;\n",
              "      width: 32px;\n",
              "    }\n",
              "\n",
              "    .colab-df-convert:hover {\n",
              "      background-color: #E2EBFA;\n",
              "      box-shadow: 0px 1px 2px rgba(60, 64, 67, 0.3), 0px 1px 3px 1px rgba(60, 64, 67, 0.15);\n",
              "      fill: #174EA6;\n",
              "    }\n",
              "\n",
              "    .colab-df-buttons div {\n",
              "      margin-bottom: 4px;\n",
              "    }\n",
              "\n",
              "    [theme=dark] .colab-df-convert {\n",
              "      background-color: #3B4455;\n",
              "      fill: #D2E3FC;\n",
              "    }\n",
              "\n",
              "    [theme=dark] .colab-df-convert:hover {\n",
              "      background-color: #434B5C;\n",
              "      box-shadow: 0px 1px 3px 1px rgba(0, 0, 0, 0.15);\n",
              "      filter: drop-shadow(0px 1px 2px rgba(0, 0, 0, 0.3));\n",
              "      fill: #FFFFFF;\n",
              "    }\n",
              "  </style>\n",
              "\n",
              "    <script>\n",
              "      const buttonEl =\n",
              "        document.querySelector('#df-853cb51b-62a6-4ff0-b1fd-d50f4b7b6dda button.colab-df-convert');\n",
              "      buttonEl.style.display =\n",
              "        google.colab.kernel.accessAllowed ? 'block' : 'none';\n",
              "\n",
              "      async function convertToInteractive(key) {\n",
              "        const element = document.querySelector('#df-853cb51b-62a6-4ff0-b1fd-d50f4b7b6dda');\n",
              "        const dataTable =\n",
              "          await google.colab.kernel.invokeFunction('convertToInteractive',\n",
              "                                                    [key], {});\n",
              "        if (!dataTable) return;\n",
              "\n",
              "        const docLinkHtml = 'Like what you see? Visit the ' +\n",
              "          '<a target=\"_blank\" href=https://colab.research.google.com/notebooks/data_table.ipynb>data table notebook</a>'\n",
              "          + ' to learn more about interactive tables.';\n",
              "        element.innerHTML = '';\n",
              "        dataTable['output_type'] = 'display_data';\n",
              "        await google.colab.output.renderOutput(dataTable, element);\n",
              "        const docLink = document.createElement('div');\n",
              "        docLink.innerHTML = docLinkHtml;\n",
              "        element.appendChild(docLink);\n",
              "      }\n",
              "    </script>\n",
              "  </div>\n",
              "\n",
              "\n",
              "<div id=\"df-ec4805cb-cd65-4ed6-81b3-47e8ebbdba05\">\n",
              "  <button class=\"colab-df-quickchart\" onclick=\"quickchart('df-ec4805cb-cd65-4ed6-81b3-47e8ebbdba05')\"\n",
              "            title=\"Suggest charts\"\n",
              "            style=\"display:none;\">\n",
              "\n",
              "<svg xmlns=\"http://www.w3.org/2000/svg\" height=\"24px\"viewBox=\"0 0 24 24\"\n",
              "     width=\"24px\">\n",
              "    <g>\n",
              "        <path d=\"M19 3H5c-1.1 0-2 .9-2 2v14c0 1.1.9 2 2 2h14c1.1 0 2-.9 2-2V5c0-1.1-.9-2-2-2zM9 17H7v-7h2v7zm4 0h-2V7h2v10zm4 0h-2v-4h2v4z\"/>\n",
              "    </g>\n",
              "</svg>\n",
              "  </button>\n",
              "\n",
              "<style>\n",
              "  .colab-df-quickchart {\n",
              "      --bg-color: #E8F0FE;\n",
              "      --fill-color: #1967D2;\n",
              "      --hover-bg-color: #E2EBFA;\n",
              "      --hover-fill-color: #174EA6;\n",
              "      --disabled-fill-color: #AAA;\n",
              "      --disabled-bg-color: #DDD;\n",
              "  }\n",
              "\n",
              "  [theme=dark] .colab-df-quickchart {\n",
              "      --bg-color: #3B4455;\n",
              "      --fill-color: #D2E3FC;\n",
              "      --hover-bg-color: #434B5C;\n",
              "      --hover-fill-color: #FFFFFF;\n",
              "      --disabled-bg-color: #3B4455;\n",
              "      --disabled-fill-color: #666;\n",
              "  }\n",
              "\n",
              "  .colab-df-quickchart {\n",
              "    background-color: var(--bg-color);\n",
              "    border: none;\n",
              "    border-radius: 50%;\n",
              "    cursor: pointer;\n",
              "    display: none;\n",
              "    fill: var(--fill-color);\n",
              "    height: 32px;\n",
              "    padding: 0;\n",
              "    width: 32px;\n",
              "  }\n",
              "\n",
              "  .colab-df-quickchart:hover {\n",
              "    background-color: var(--hover-bg-color);\n",
              "    box-shadow: 0 1px 2px rgba(60, 64, 67, 0.3), 0 1px 3px 1px rgba(60, 64, 67, 0.15);\n",
              "    fill: var(--button-hover-fill-color);\n",
              "  }\n",
              "\n",
              "  .colab-df-quickchart-complete:disabled,\n",
              "  .colab-df-quickchart-complete:disabled:hover {\n",
              "    background-color: var(--disabled-bg-color);\n",
              "    fill: var(--disabled-fill-color);\n",
              "    box-shadow: none;\n",
              "  }\n",
              "\n",
              "  .colab-df-spinner {\n",
              "    border: 2px solid var(--fill-color);\n",
              "    border-color: transparent;\n",
              "    border-bottom-color: var(--fill-color);\n",
              "    animation:\n",
              "      spin 1s steps(1) infinite;\n",
              "  }\n",
              "\n",
              "  @keyframes spin {\n",
              "    0% {\n",
              "      border-color: transparent;\n",
              "      border-bottom-color: var(--fill-color);\n",
              "      border-left-color: var(--fill-color);\n",
              "    }\n",
              "    20% {\n",
              "      border-color: transparent;\n",
              "      border-left-color: var(--fill-color);\n",
              "      border-top-color: var(--fill-color);\n",
              "    }\n",
              "    30% {\n",
              "      border-color: transparent;\n",
              "      border-left-color: var(--fill-color);\n",
              "      border-top-color: var(--fill-color);\n",
              "      border-right-color: var(--fill-color);\n",
              "    }\n",
              "    40% {\n",
              "      border-color: transparent;\n",
              "      border-right-color: var(--fill-color);\n",
              "      border-top-color: var(--fill-color);\n",
              "    }\n",
              "    60% {\n",
              "      border-color: transparent;\n",
              "      border-right-color: var(--fill-color);\n",
              "    }\n",
              "    80% {\n",
              "      border-color: transparent;\n",
              "      border-right-color: var(--fill-color);\n",
              "      border-bottom-color: var(--fill-color);\n",
              "    }\n",
              "    90% {\n",
              "      border-color: transparent;\n",
              "      border-bottom-color: var(--fill-color);\n",
              "    }\n",
              "  }\n",
              "</style>\n",
              "\n",
              "  <script>\n",
              "    async function quickchart(key) {\n",
              "      const quickchartButtonEl =\n",
              "        document.querySelector('#' + key + ' button');\n",
              "      quickchartButtonEl.disabled = true;  // To prevent multiple clicks.\n",
              "      quickchartButtonEl.classList.add('colab-df-spinner');\n",
              "      try {\n",
              "        const charts = await google.colab.kernel.invokeFunction(\n",
              "            'suggestCharts', [key], {});\n",
              "      } catch (error) {\n",
              "        console.error('Error during call to suggestCharts:', error);\n",
              "      }\n",
              "      quickchartButtonEl.classList.remove('colab-df-spinner');\n",
              "      quickchartButtonEl.classList.add('colab-df-quickchart-complete');\n",
              "    }\n",
              "    (() => {\n",
              "      let quickchartButtonEl =\n",
              "        document.querySelector('#df-ec4805cb-cd65-4ed6-81b3-47e8ebbdba05 button');\n",
              "      quickchartButtonEl.style.display =\n",
              "        google.colab.kernel.accessAllowed ? 'block' : 'none';\n",
              "    })();\n",
              "  </script>\n",
              "</div>\n",
              "    </div>\n",
              "  </div>\n"
            ],
            "application/vnd.google.colaboratory.intrinsic+json": {
              "type": "dataframe",
              "summary": "{\n  \"name\": \"df\",\n  \"rows\": 8,\n  \"fields\": [\n    {\n      \"column\": \"price\",\n      \"properties\": {\n        \"dtype\": \"number\",\n        \"std\": 692.242381506938,\n        \"min\": 50.0,\n        \"max\": 2040.0,\n        \"num_unique_values\": 8,\n        \"samples\": [\n          127.49656862745098,\n          115.0,\n          2040.0\n        ],\n        \"semantic_type\": \"\",\n        \"description\": \"\"\n      }\n    },\n    {\n      \"column\": \"livesp\",\n      \"properties\": {\n        \"dtype\": \"number\",\n        \"std\": 705.5250959001156,\n        \"min\": 7.894347983033161,\n        \"max\": 2040.0,\n        \"num_unique_values\": 8,\n        \"samples\": [\n          46.33725490196078,\n          45.0,\n          2040.0\n        ],\n        \"semantic_type\": \"\",\n        \"description\": \"\"\n      }\n    },\n    {\n      \"column\": \"metrdist\",\n      \"properties\": {\n        \"dtype\": \"number\",\n        \"std\": 718.4966997987846,\n        \"min\": 1.0,\n        \"max\": 2040.0,\n        \"num_unique_values\": 8,\n        \"samples\": [\n          8.117156862745098,\n          7.0,\n          2040.0\n        ],\n        \"semantic_type\": \"\",\n        \"description\": \"\"\n      }\n    },\n    {\n      \"column\": \"totsp\",\n      \"properties\": {\n        \"dtype\": \"number\",\n        \"std\": 695.9310895115481,\n        \"min\": 15.123449795341639,\n        \"max\": 2040.0,\n        \"num_unique_values\": 8,\n        \"samples\": [\n          73.08431372549019,\n          73.5,\n          2040.0\n        ],\n        \"semantic_type\": \"\",\n        \"description\": \"\"\n      }\n    },\n    {\n      \"column\": \"walk\",\n      \"properties\": {\n        \"dtype\": \"number\",\n        \"std\": 721.0394264558067,\n        \"min\": 0.0,\n        \"max\": 2040.0,\n        \"num_unique_values\": 5,\n        \"samples\": [\n          0.6857843137254902,\n          1.0,\n          0.46431656236065677\n        ],\n        \"semantic_type\": \"\",\n        \"description\": \"\"\n      }\n    },\n    {\n      \"column\": \"floor\",\n      \"properties\": {\n        \"dtype\": \"number\",\n        \"std\": 720.9864904074592,\n        \"min\": 0.0,\n        \"max\": 2040.0,\n        \"num_unique_values\": 5,\n        \"samples\": [\n          0.7906862745098039,\n          1.0,\n          0.40691849034064365\n        ],\n        \"semantic_type\": \"\",\n        \"description\": \"\"\n      }\n    }\n  ]\n}"
            }
          },
          "metadata": {},
          "execution_count": 10
        }
      ]
    },
    {
      "cell_type": "code",
      "source": [
        "model = smf.ols('price ~ livesp + metrdist + walk + floor', data=df)\n",
        "results = model.fit()\n",
        "print(results.summary())"
      ],
      "metadata": {
        "colab": {
          "base_uri": "https://localhost:8080/"
        },
        "id": "OY4zCBOaRVCg",
        "outputId": "f10a7f59-fe78-45c0-8cfe-9ad4acb8351c"
      },
      "execution_count": 11,
      "outputs": [
        {
          "output_type": "stream",
          "name": "stdout",
          "text": [
            "                            OLS Regression Results                            \n",
            "==============================================================================\n",
            "Dep. Variable:                  price   R-squared:                       0.560\n",
            "Model:                            OLS   Adj. R-squared:                  0.560\n",
            "Method:                 Least Squares   F-statistic:                     648.5\n",
            "Date:                Sat, 15 Feb 2025   Prob (F-statistic):               0.00\n",
            "Time:                        11:05:53   Log-Likelihood:                -10112.\n",
            "No. Observations:                2040   AIC:                         2.023e+04\n",
            "Df Residuals:                    2035   BIC:                         2.026e+04\n",
            "Df Model:                           4                                         \n",
            "Covariance Type:            nonrobust                                         \n",
            "==============================================================================\n",
            "                 coef    std err          t      P>|t|      [0.025      0.975]\n",
            "------------------------------------------------------------------------------\n",
            "Intercept    -91.7356      5.117    -17.928      0.000    -101.770     -81.701\n",
            "livesp         4.6747      0.097     48.032      0.000       4.484       4.866\n",
            "metrdist      -1.4863      0.200     -7.421      0.000      -1.879      -1.094\n",
            "walk          11.8420      1.647      7.190      0.000       8.612      15.072\n",
            "floor          8.2989      1.883      4.407      0.000       4.606      11.992\n",
            "==============================================================================\n",
            "Omnibus:                      988.344   Durbin-Watson:                   1.965\n",
            "Prob(Omnibus):                  0.000   Jarque-Bera (JB):            11546.725\n",
            "Skew:                           1.984   Prob(JB):                         0.00\n",
            "Kurtosis:                      13.959   Cond. No.                         322.\n",
            "==============================================================================\n",
            "\n",
            "Notes:\n",
            "[1] Standard Errors assume that the covariance matrix of the errors is correctly specified.\n"
          ]
        }
      ]
    },
    {
      "cell_type": "markdown",
      "source": [
        "**ЗАДАНИЕ 4**: Проинтерпретируйте результаты, полученные в модели (**коэффициенты**) - и методологически (через p-value) и содержательно (с точки зрения смысла)."
      ],
      "metadata": {
        "id": "w8ouGIv3Boom"
      }
    },
    {
      "cell_type": "code",
      "source": [
        "'''\n",
        "1) Зависимость между средней ценной на квартиру и жилым площади.\n",
        "\n",
        "Н0: Средняя цена на квартиру не зависит от жилой площади.\n",
        "\n",
        "Н1: Средняя цена на квартиру зависит от жилой площади.\n",
        "\n",
        "Pi-value: 0.000 --> Принимаем Н1\n",
        "\n",
        "Содержательная интерпретация: Чем больше жилая площадь квартиры, тем больше её средняя стоимость (Связь положительная, поскольку ценность квартиры измеряется в количестве квадратных метров жилого пространства, и цена, являясь количественным отображением ценности, будет положительно зависеть от жилой площади)\n",
        "\n",
        "Жилая площадь (х) повышает среднюю цену квартиры в среднем на 4.67 при прочих равных условиях\n",
        "\n",
        "2)Зависимость между средней ценой на квартиру и расстоянием до ближайшей станции метро.\n",
        "\n",
        "Н0: Средняя цена на квартиру не зависит от расстояния до ближайшей станции метро.\n",
        "\n",
        "Н1: Средняя цена на квартиру зависит от расстояния до ближайшей станции метро.\n",
        "\n",
        "Pi-value: 0.000 --> Принимаем Н1\n",
        "\n",
        "Содержательная интерпретация: Чем больше расстояние до ближайшей станции метро, тем меньше средняя стоимость квартиры (Связь отрицательная, поскольку одним из ключевых факторов выбора квартиры является близость к метро и наличие этого фактора увеличивает шансы продать квартиру)\n",
        "\n",
        "Отдалённость от метро (х) снижает среднюю цену квартиры в среднем на 1.49 при прочих равных условиях\n",
        "\n",
        "3) Зависимость между средней ценой на квартиру и доступностью инфраструктуры.\n",
        "\n",
        "Н0: Средняя цена на квартиру не зависит от доступности инфрастуктуры.\n",
        "\n",
        "Н1: Средняя цена на квартиру зависит от доступности инфрастуктуры.\n",
        "\n",
        "Pi-value: 0.000 --> Принимаем Н1\n",
        "\n",
        "Содержательная интерпретация: Факт близости инфраструктуры к квартире повышает среднюю стоимость квартиры\n",
        "Доступность инфрастуктуры (х) повышает среднюю цену квартиры в среднем на 11.84 при прочих равных условиях\n",
        "\n",
        "4) Зависимость между средней ценой на квартиру и номера этажа квартиры.\n",
        "\n",
        "Н0: Средняя цена на квартиру не зависит от номера этажа.\n",
        "\n",
        "Н1: Средняя цена на квартиру зависит от номера этажа.\n",
        "\n",
        "Pi-value: 0.000 --> Принимаем Н1\n",
        "\n",
        "Содержательная интерпретация: Факт нахождения квартиры на первом этаже повышает среднюю стоимость квартиры.\n",
        "\n",
        "Нахождение квартиры на первом этаже (х) повышает среднюю цену квартиры в среднем на 8.30 при прочих равных условиях\n",
        "\n",
        "\n",
        "\n",
        "'''"
      ],
      "metadata": {
        "id": "84TYX-B4B02_"
      },
      "execution_count": null,
      "outputs": []
    },
    {
      "cell_type": "markdown",
      "source": [
        "**ЗАДАНИЕ 5**: Постройте график распределения остатков и скажите, нормально ли они распределены. Сделайте вывод о валидности выводов регрессии"
      ],
      "metadata": {
        "id": "ulnvYJFJB8E3"
      }
    },
    {
      "cell_type": "code",
      "source": [
        "residuals = results.resid\n",
        "sns.histplot(residuals, kde=True)\n",
        "plt.title(\"Гистограмма остатков (Нормальность)\")\n",
        "plt.xlabel(\"Остатки\")\n",
        "plt.show()"
      ],
      "metadata": {
        "id": "KQuB35SrCFgm",
        "colab": {
          "base_uri": "https://localhost:8080/",
          "height": 472
        },
        "outputId": "1d343a3c-3fbe-4e42-bffd-b3544a8aae54"
      },
      "execution_count": 13,
      "outputs": [
        {
          "output_type": "display_data",
          "data": {
            "text/plain": [
              "<Figure size 640x480 with 1 Axes>"
            ],
            "image/png": "[encoded data removed]"
          },
          "metadata": {}
        }
      ]
    },
    {
      "cell_type": "markdown",
      "source": [
        "Остатки распределены нормально"
      ],
      "metadata": {
        "id": "ULsZFkXQl-BZ"
      }
    },
    {
      "cell_type": "code",
      "source": [
        "probplot(residuals, dist=\"norm\", plot=plt)\n",
        "plt.title(\"Q-Q график остатков\")\n",
        "plt.show()"
      ],
      "metadata": {
        "colab": {
          "base_uri": "https://localhost:8080/",
          "height": 472
        },
        "id": "BKgjydpTl55T",
        "outputId": "3b858f0d-7981-4f9a-cdd9-7ed0e62c555f"
      },
      "execution_count": 14,
      "outputs": [
        {
          "output_type": "display_data",
          "data": {
            "text/plain": [
              "<Figure size 640x480 with 1 Axes>"
            ],
            "image/png": "[encoded data removed]"
          },
          "metadata": {}
        }
      ]
    },
    {
      "cell_type": "markdown",
      "source": [
        "**Вывод о валидности**\n",
        "\n",
        "Модель адекватно описывает данные, и выводы, основанные на этой модели, могут быть валидными.\n",
        "\n",
        "Нормальное распределение остатков можнт указывать на выполнение основных предположений о линейной регрессии и достоверность статистических тестов."
      ],
      "metadata": {
        "id": "5qX2hganmB8t"
      }
    }
  ]
}